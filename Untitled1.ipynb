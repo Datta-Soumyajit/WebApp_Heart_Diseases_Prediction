{
 "cells": [
  {
   "cell_type": "code",
   "execution_count": 46,
   "id": "0168c464",
   "metadata": {},
   "outputs": [],
   "source": [
    "import numpy as np\n",
    "import pandas as pd\n",
    "import seaborn as sns\n",
    "import matplotlib.pyplot as plt"
   ]
  },
  {
   "cell_type": "code",
   "execution_count": 47,
   "id": "f5a89b23",
   "metadata": {},
   "outputs": [
    {
     "data": {
      "text/html": [
       "<div>\n",
       "<style scoped>\n",
       "    .dataframe tbody tr th:only-of-type {\n",
       "        vertical-align: middle;\n",
       "    }\n",
       "\n",
       "    .dataframe tbody tr th {\n",
       "        vertical-align: top;\n",
       "    }\n",
       "\n",
       "    .dataframe thead th {\n",
       "        text-align: right;\n",
       "    }\n",
       "</style>\n",
       "<table border=\"1\" class=\"dataframe\">\n",
       "  <thead>\n",
       "    <tr style=\"text-align: right;\">\n",
       "      <th></th>\n",
       "      <th>age</th>\n",
       "      <th>sex</th>\n",
       "      <th>chest_pain_type</th>\n",
       "      <th>resting_blood_pressure</th>\n",
       "      <th>cholestoral</th>\n",
       "      <th>fasting_blood_sugar</th>\n",
       "      <th>rest_ecg</th>\n",
       "      <th>Max_heart_rate</th>\n",
       "      <th>exercise_induced_angina</th>\n",
       "      <th>oldpeak</th>\n",
       "      <th>slope</th>\n",
       "      <th>vessels_colored_by_flourosopy</th>\n",
       "      <th>thalassemia</th>\n",
       "      <th>target</th>\n",
       "    </tr>\n",
       "  </thead>\n",
       "  <tbody>\n",
       "    <tr>\n",
       "      <th>0</th>\n",
       "      <td>52</td>\n",
       "      <td>Male</td>\n",
       "      <td>Typical angina</td>\n",
       "      <td>125</td>\n",
       "      <td>212</td>\n",
       "      <td>Lower than 120 mg/ml</td>\n",
       "      <td>ST-T wave abnormality</td>\n",
       "      <td>168</td>\n",
       "      <td>No</td>\n",
       "      <td>1.0</td>\n",
       "      <td>Downsloping</td>\n",
       "      <td>Two</td>\n",
       "      <td>Reversable Defect</td>\n",
       "      <td>0</td>\n",
       "    </tr>\n",
       "    <tr>\n",
       "      <th>1</th>\n",
       "      <td>53</td>\n",
       "      <td>Male</td>\n",
       "      <td>Typical angina</td>\n",
       "      <td>140</td>\n",
       "      <td>203</td>\n",
       "      <td>Greater than 120 mg/ml</td>\n",
       "      <td>Normal</td>\n",
       "      <td>155</td>\n",
       "      <td>Yes</td>\n",
       "      <td>3.1</td>\n",
       "      <td>Upsloping</td>\n",
       "      <td>Zero</td>\n",
       "      <td>Reversable Defect</td>\n",
       "      <td>0</td>\n",
       "    </tr>\n",
       "    <tr>\n",
       "      <th>2</th>\n",
       "      <td>70</td>\n",
       "      <td>Male</td>\n",
       "      <td>Typical angina</td>\n",
       "      <td>145</td>\n",
       "      <td>174</td>\n",
       "      <td>Lower than 120 mg/ml</td>\n",
       "      <td>ST-T wave abnormality</td>\n",
       "      <td>125</td>\n",
       "      <td>Yes</td>\n",
       "      <td>2.6</td>\n",
       "      <td>Upsloping</td>\n",
       "      <td>Zero</td>\n",
       "      <td>Reversable Defect</td>\n",
       "      <td>0</td>\n",
       "    </tr>\n",
       "    <tr>\n",
       "      <th>3</th>\n",
       "      <td>61</td>\n",
       "      <td>Male</td>\n",
       "      <td>Typical angina</td>\n",
       "      <td>148</td>\n",
       "      <td>203</td>\n",
       "      <td>Lower than 120 mg/ml</td>\n",
       "      <td>ST-T wave abnormality</td>\n",
       "      <td>161</td>\n",
       "      <td>No</td>\n",
       "      <td>0.0</td>\n",
       "      <td>Downsloping</td>\n",
       "      <td>One</td>\n",
       "      <td>Reversable Defect</td>\n",
       "      <td>0</td>\n",
       "    </tr>\n",
       "    <tr>\n",
       "      <th>4</th>\n",
       "      <td>62</td>\n",
       "      <td>Female</td>\n",
       "      <td>Typical angina</td>\n",
       "      <td>138</td>\n",
       "      <td>294</td>\n",
       "      <td>Greater than 120 mg/ml</td>\n",
       "      <td>ST-T wave abnormality</td>\n",
       "      <td>106</td>\n",
       "      <td>No</td>\n",
       "      <td>1.9</td>\n",
       "      <td>Flat</td>\n",
       "      <td>Three</td>\n",
       "      <td>Fixed Defect</td>\n",
       "      <td>0</td>\n",
       "    </tr>\n",
       "  </tbody>\n",
       "</table>\n",
       "</div>"
      ],
      "text/plain": [
       "   age     sex chest_pain_type  resting_blood_pressure  cholestoral  \\\n",
       "0   52    Male  Typical angina                     125          212   \n",
       "1   53    Male  Typical angina                     140          203   \n",
       "2   70    Male  Typical angina                     145          174   \n",
       "3   61    Male  Typical angina                     148          203   \n",
       "4   62  Female  Typical angina                     138          294   \n",
       "\n",
       "      fasting_blood_sugar               rest_ecg  Max_heart_rate  \\\n",
       "0    Lower than 120 mg/ml  ST-T wave abnormality             168   \n",
       "1  Greater than 120 mg/ml                 Normal             155   \n",
       "2    Lower than 120 mg/ml  ST-T wave abnormality             125   \n",
       "3    Lower than 120 mg/ml  ST-T wave abnormality             161   \n",
       "4  Greater than 120 mg/ml  ST-T wave abnormality             106   \n",
       "\n",
       "  exercise_induced_angina  oldpeak        slope vessels_colored_by_flourosopy  \\\n",
       "0                      No      1.0  Downsloping                           Two   \n",
       "1                     Yes      3.1    Upsloping                          Zero   \n",
       "2                     Yes      2.6    Upsloping                          Zero   \n",
       "3                      No      0.0  Downsloping                           One   \n",
       "4                      No      1.9         Flat                         Three   \n",
       "\n",
       "         thalassemia  target  \n",
       "0  Reversable Defect       0  \n",
       "1  Reversable Defect       0  \n",
       "2  Reversable Defect       0  \n",
       "3  Reversable Defect       0  \n",
       "4       Fixed Defect       0  "
      ]
     },
     "execution_count": 47,
     "metadata": {},
     "output_type": "execute_result"
    }
   ],
   "source": [
    "df = pd.read_csv('HeartDiseaseTrain-Test.csv')\n",
    "df.head()"
   ]
  },
  {
   "cell_type": "code",
   "execution_count": 54,
   "id": "41dcf836",
   "metadata": {},
   "outputs": [
    {
     "ename": "ValueError",
     "evalue": "Value of 'x' is not the name of a column in 'data_frame'. Expected one of ['date', 'GOOG', 'AAPL', 'AMZN', 'FB', 'NFLX', 'MSFT'] but received: age",
     "output_type": "error",
     "traceback": [
      "\u001b[1;31m---------------------------------------------------------------------------\u001b[0m",
      "\u001b[1;31mValueError\u001b[0m                                Traceback (most recent call last)",
      "\u001b[1;32m~\\AppData\\Local\\Temp\\ipykernel_23532\\1029090573.py\u001b[0m in \u001b[0;36m<module>\u001b[1;34m\u001b[0m\n\u001b[0;32m      2\u001b[0m \u001b[1;33m\u001b[0m\u001b[0m\n\u001b[0;32m      3\u001b[0m \u001b[0mdata\u001b[0m \u001b[1;33m=\u001b[0m \u001b[0mpx\u001b[0m\u001b[1;33m.\u001b[0m\u001b[0mdata\u001b[0m\u001b[1;33m.\u001b[0m\u001b[0mstocks\u001b[0m\u001b[1;33m(\u001b[0m\u001b[1;33m)\u001b[0m\u001b[1;33m\u001b[0m\u001b[1;33m\u001b[0m\u001b[0m\n\u001b[1;32m----> 4\u001b[1;33m \u001b[0mfig\u001b[0m \u001b[1;33m=\u001b[0m \u001b[0mpx\u001b[0m\u001b[1;33m.\u001b[0m\u001b[0mline\u001b[0m\u001b[1;33m(\u001b[0m\u001b[0mdata\u001b[0m\u001b[1;33m,\u001b[0m \u001b[0mx\u001b[0m\u001b[1;33m=\u001b[0m\u001b[1;34m'age'\u001b[0m\u001b[1;33m,\u001b[0m \u001b[0my\u001b[0m\u001b[1;33m=\u001b[0m\u001b[1;34m\"target\"\u001b[0m\u001b[1;33m)\u001b[0m\u001b[1;33m\u001b[0m\u001b[1;33m\u001b[0m\u001b[0m\n\u001b[0m\u001b[0;32m      5\u001b[0m \u001b[0mfig\u001b[0m\u001b[1;33m.\u001b[0m\u001b[0mshow\u001b[0m\u001b[1;33m(\u001b[0m\u001b[1;33m)\u001b[0m\u001b[1;33m\u001b[0m\u001b[1;33m\u001b[0m\u001b[0m\n",
      "\u001b[1;32mC:\\ProgramData\\Anaconda3\\lib\\site-packages\\plotly\\express\\_chart_types.py\u001b[0m in \u001b[0;36mline\u001b[1;34m(data_frame, x, y, line_group, color, line_dash, symbol, hover_name, hover_data, custom_data, text, facet_row, facet_col, facet_col_wrap, facet_row_spacing, facet_col_spacing, error_x, error_x_minus, error_y, error_y_minus, animation_frame, animation_group, category_orders, labels, orientation, color_discrete_sequence, color_discrete_map, line_dash_sequence, line_dash_map, symbol_sequence, symbol_map, markers, log_x, log_y, range_x, range_y, line_shape, render_mode, title, template, width, height)\u001b[0m\n\u001b[0;32m    262\u001b[0m     \u001b[0ma\u001b[0m \u001b[0mpolyline\u001b[0m \u001b[0mmark\u001b[0m \u001b[1;32min\u001b[0m \u001b[1;36m2\u001b[0m\u001b[0mD\u001b[0m \u001b[0mspace\u001b[0m\u001b[1;33m.\u001b[0m\u001b[1;33m\u001b[0m\u001b[1;33m\u001b[0m\u001b[0m\n\u001b[0;32m    263\u001b[0m     \"\"\"\n\u001b[1;32m--> 264\u001b[1;33m     \u001b[1;32mreturn\u001b[0m \u001b[0mmake_figure\u001b[0m\u001b[1;33m(\u001b[0m\u001b[0margs\u001b[0m\u001b[1;33m=\u001b[0m\u001b[0mlocals\u001b[0m\u001b[1;33m(\u001b[0m\u001b[1;33m)\u001b[0m\u001b[1;33m,\u001b[0m \u001b[0mconstructor\u001b[0m\u001b[1;33m=\u001b[0m\u001b[0mgo\u001b[0m\u001b[1;33m.\u001b[0m\u001b[0mScatter\u001b[0m\u001b[1;33m)\u001b[0m\u001b[1;33m\u001b[0m\u001b[1;33m\u001b[0m\u001b[0m\n\u001b[0m\u001b[0;32m    265\u001b[0m \u001b[1;33m\u001b[0m\u001b[0m\n\u001b[0;32m    266\u001b[0m \u001b[1;33m\u001b[0m\u001b[0m\n",
      "\u001b[1;32mC:\\ProgramData\\Anaconda3\\lib\\site-packages\\plotly\\express\\_core.py\u001b[0m in \u001b[0;36mmake_figure\u001b[1;34m(args, constructor, trace_patch, layout_patch)\u001b[0m\n\u001b[0;32m   1988\u001b[0m     \u001b[0mapply_default_cascade\u001b[0m\u001b[1;33m(\u001b[0m\u001b[0margs\u001b[0m\u001b[1;33m)\u001b[0m\u001b[1;33m\u001b[0m\u001b[1;33m\u001b[0m\u001b[0m\n\u001b[0;32m   1989\u001b[0m \u001b[1;33m\u001b[0m\u001b[0m\n\u001b[1;32m-> 1990\u001b[1;33m     \u001b[0margs\u001b[0m \u001b[1;33m=\u001b[0m \u001b[0mbuild_dataframe\u001b[0m\u001b[1;33m(\u001b[0m\u001b[0margs\u001b[0m\u001b[1;33m,\u001b[0m \u001b[0mconstructor\u001b[0m\u001b[1;33m)\u001b[0m\u001b[1;33m\u001b[0m\u001b[1;33m\u001b[0m\u001b[0m\n\u001b[0m\u001b[0;32m   1991\u001b[0m     \u001b[1;32mif\u001b[0m \u001b[0mconstructor\u001b[0m \u001b[1;32min\u001b[0m \u001b[1;33m[\u001b[0m\u001b[0mgo\u001b[0m\u001b[1;33m.\u001b[0m\u001b[0mTreemap\u001b[0m\u001b[1;33m,\u001b[0m \u001b[0mgo\u001b[0m\u001b[1;33m.\u001b[0m\u001b[0mSunburst\u001b[0m\u001b[1;33m,\u001b[0m \u001b[0mgo\u001b[0m\u001b[1;33m.\u001b[0m\u001b[0mIcicle\u001b[0m\u001b[1;33m]\u001b[0m \u001b[1;32mand\u001b[0m \u001b[0margs\u001b[0m\u001b[1;33m[\u001b[0m\u001b[1;34m\"path\"\u001b[0m\u001b[1;33m]\u001b[0m \u001b[1;32mis\u001b[0m \u001b[1;32mnot\u001b[0m \u001b[1;32mNone\u001b[0m\u001b[1;33m:\u001b[0m\u001b[1;33m\u001b[0m\u001b[1;33m\u001b[0m\u001b[0m\n\u001b[0;32m   1992\u001b[0m         \u001b[0margs\u001b[0m \u001b[1;33m=\u001b[0m \u001b[0mprocess_dataframe_hierarchy\u001b[0m\u001b[1;33m(\u001b[0m\u001b[0margs\u001b[0m\u001b[1;33m)\u001b[0m\u001b[1;33m\u001b[0m\u001b[1;33m\u001b[0m\u001b[0m\n",
      "\u001b[1;32mC:\\ProgramData\\Anaconda3\\lib\\site-packages\\plotly\\express\\_core.py\u001b[0m in \u001b[0;36mbuild_dataframe\u001b[1;34m(args, constructor)\u001b[0m\n\u001b[0;32m   1403\u001b[0m     \u001b[1;31m# now that things have been prepped, we do the systematic rewriting of `args`\u001b[0m\u001b[1;33m\u001b[0m\u001b[1;33m\u001b[0m\u001b[0m\n\u001b[0;32m   1404\u001b[0m \u001b[1;33m\u001b[0m\u001b[0m\n\u001b[1;32m-> 1405\u001b[1;33m     df_output, wide_id_vars = process_args_into_dataframe(\n\u001b[0m\u001b[0;32m   1406\u001b[0m         \u001b[0margs\u001b[0m\u001b[1;33m,\u001b[0m \u001b[0mwide_mode\u001b[0m\u001b[1;33m,\u001b[0m \u001b[0mvar_name\u001b[0m\u001b[1;33m,\u001b[0m \u001b[0mvalue_name\u001b[0m\u001b[1;33m\u001b[0m\u001b[1;33m\u001b[0m\u001b[0m\n\u001b[0;32m   1407\u001b[0m     )\n",
      "\u001b[1;32mC:\\ProgramData\\Anaconda3\\lib\\site-packages\\plotly\\express\\_core.py\u001b[0m in \u001b[0;36mprocess_args_into_dataframe\u001b[1;34m(args, wide_mode, var_name, value_name)\u001b[0m\n\u001b[0;32m   1205\u001b[0m                         \u001b[1;32mif\u001b[0m \u001b[0margument\u001b[0m \u001b[1;33m==\u001b[0m \u001b[1;34m\"index\"\u001b[0m\u001b[1;33m:\u001b[0m\u001b[1;33m\u001b[0m\u001b[1;33m\u001b[0m\u001b[0m\n\u001b[0;32m   1206\u001b[0m                             \u001b[0merr_msg\u001b[0m \u001b[1;33m+=\u001b[0m \u001b[1;34m\"\\n To use the index, pass it in directly as `df.index`.\"\u001b[0m\u001b[1;33m\u001b[0m\u001b[1;33m\u001b[0m\u001b[0m\n\u001b[1;32m-> 1207\u001b[1;33m                         \u001b[1;32mraise\u001b[0m \u001b[0mValueError\u001b[0m\u001b[1;33m(\u001b[0m\u001b[0merr_msg\u001b[0m\u001b[1;33m)\u001b[0m\u001b[1;33m\u001b[0m\u001b[1;33m\u001b[0m\u001b[0m\n\u001b[0m\u001b[0;32m   1208\u001b[0m                 \u001b[1;32melif\u001b[0m \u001b[0mlength\u001b[0m \u001b[1;32mand\u001b[0m \u001b[0mlen\u001b[0m\u001b[1;33m(\u001b[0m\u001b[0mdf_input\u001b[0m\u001b[1;33m[\u001b[0m\u001b[0margument\u001b[0m\u001b[1;33m]\u001b[0m\u001b[1;33m)\u001b[0m \u001b[1;33m!=\u001b[0m \u001b[0mlength\u001b[0m\u001b[1;33m:\u001b[0m\u001b[1;33m\u001b[0m\u001b[1;33m\u001b[0m\u001b[0m\n\u001b[0;32m   1209\u001b[0m                     raise ValueError(\n",
      "\u001b[1;31mValueError\u001b[0m: Value of 'x' is not the name of a column in 'data_frame'. Expected one of ['date', 'GOOG', 'AAPL', 'AMZN', 'FB', 'NFLX', 'MSFT'] but received: age"
     ]
    }
   ],
   "source": [
    "import plotly.express as px\n",
    "\n",
    "data = px.data.stocks()\n",
    "fig = px.line(data, x='age', y=\"target\")\n",
    "fig.show()"
   ]
  },
  {
   "cell_type": "code",
   "execution_count": 48,
   "id": "b0198a78",
   "metadata": {},
   "outputs": [
    {
     "data": {
      "text/plain": [
       "71"
      ]
     },
     "execution_count": 48,
     "metadata": {},
     "output_type": "execute_result"
    }
   ],
   "source": [
    "min(df['Max_heart_rate'])"
   ]
  },
  {
   "cell_type": "code",
   "execution_count": 49,
   "id": "587688b1",
   "metadata": {},
   "outputs": [
    {
     "data": {
      "image/png": "[encoded data removed]",
      "text/plain": [
       "<Figure size 1000x600 with 1 Axes>"
      ]
     },
     "metadata": {},
     "output_type": "display_data"
    }
   ],
   "source": [
    "plt.figure(figsize=(10, 6))\n",
    "p = sns.histplot(data = df, x = 'age', kde = True, hue = 'target')\n",
    "plt.xlabel(\"Age\", fontsize=20)\n",
    "plt.ylabel(\"Count\", fontsize=20)\n",
    "plt.title(\"Age wrt target\", fontsize=23)\n",
    "plt.show(p)"
   ]
  },
  {
   "cell_type": "code",
   "execution_count": 52,
   "id": "88043a3b",
   "metadata": {},
   "outputs": [
    {
     "data": {
      "image/png": "[encoded data removed]",
      "text/plain": [
       "<Figure size 640x480 with 1 Axes>"
      ]
     },
     "metadata": {},
     "output_type": "display_data"
    },
    {
     "ename": "ValueError",
     "evalue": "The truth value of a Series is ambiguous. Use a.empty, a.bool(), a.item(), a.any() or a.all().",
     "output_type": "error",
     "traceback": [
      "\u001b[1;31m---------------------------------------------------------------------------\u001b[0m",
      "\u001b[1;31mValueError\u001b[0m                                Traceback (most recent call last)",
      "\u001b[1;32m~\\AppData\\Local\\Temp\\ipykernel_23532\\3522811251.py\u001b[0m in \u001b[0;36m<module>\u001b[1;34m\u001b[0m\n\u001b[0;32m      1\u001b[0m \u001b[0mfig1\u001b[0m \u001b[1;33m=\u001b[0m \u001b[0mdf\u001b[0m\u001b[1;33m.\u001b[0m\u001b[0mgroupby\u001b[0m\u001b[1;33m(\u001b[0m\u001b[1;34m'target'\u001b[0m\u001b[1;33m)\u001b[0m\u001b[1;33m.\u001b[0m\u001b[0mage\u001b[0m\u001b[1;33m.\u001b[0m\u001b[0mplot\u001b[0m\u001b[1;33m(\u001b[0m\u001b[0mkind\u001b[0m\u001b[1;33m=\u001b[0m\u001b[1;34m'kde'\u001b[0m\u001b[1;33m)\u001b[0m\u001b[1;33m\u001b[0m\u001b[1;33m\u001b[0m\u001b[0m\n\u001b[1;32m----> 2\u001b[1;33m \u001b[0mplt\u001b[0m\u001b[1;33m.\u001b[0m\u001b[0mshow\u001b[0m\u001b[1;33m(\u001b[0m\u001b[0mfig1\u001b[0m\u001b[1;33m)\u001b[0m\u001b[1;33m\u001b[0m\u001b[1;33m\u001b[0m\u001b[0m\n\u001b[0m",
      "\u001b[1;32mC:\\ProgramData\\Anaconda3\\lib\\site-packages\\matplotlib\\pyplot.py\u001b[0m in \u001b[0;36mshow\u001b[1;34m(*args, **kwargs)\u001b[0m\n\u001b[0;32m    387\u001b[0m     \"\"\"\n\u001b[0;32m    388\u001b[0m     \u001b[0m_warn_if_gui_out_of_main_thread\u001b[0m\u001b[1;33m(\u001b[0m\u001b[1;33m)\u001b[0m\u001b[1;33m\u001b[0m\u001b[1;33m\u001b[0m\u001b[0m\n\u001b[1;32m--> 389\u001b[1;33m     \u001b[1;32mreturn\u001b[0m \u001b[0m_get_backend_mod\u001b[0m\u001b[1;33m(\u001b[0m\u001b[1;33m)\u001b[0m\u001b[1;33m.\u001b[0m\u001b[0mshow\u001b[0m\u001b[1;33m(\u001b[0m\u001b[1;33m*\u001b[0m\u001b[0margs\u001b[0m\u001b[1;33m,\u001b[0m \u001b[1;33m**\u001b[0m\u001b[0mkwargs\u001b[0m\u001b[1;33m)\u001b[0m\u001b[1;33m\u001b[0m\u001b[1;33m\u001b[0m\u001b[0m\n\u001b[0m\u001b[0;32m    390\u001b[0m \u001b[1;33m\u001b[0m\u001b[0m\n\u001b[0;32m    391\u001b[0m \u001b[1;33m\u001b[0m\u001b[0m\n",
      "\u001b[1;32mC:\\ProgramData\\Anaconda3\\lib\\site-packages\\matplotlib_inline\\backend_inline.py\u001b[0m in \u001b[0;36mshow\u001b[1;34m(close, block)\u001b[0m\n\u001b[0;32m     96\u001b[0m         \u001b[1;31m# only call close('all') if any to close\u001b[0m\u001b[1;33m\u001b[0m\u001b[1;33m\u001b[0m\u001b[0m\n\u001b[0;32m     97\u001b[0m         \u001b[1;31m# close triggers gc.collect, which can be slow\u001b[0m\u001b[1;33m\u001b[0m\u001b[1;33m\u001b[0m\u001b[0m\n\u001b[1;32m---> 98\u001b[1;33m         \u001b[1;32mif\u001b[0m \u001b[0mclose\u001b[0m \u001b[1;32mand\u001b[0m \u001b[0mGcf\u001b[0m\u001b[1;33m.\u001b[0m\u001b[0mget_all_fig_managers\u001b[0m\u001b[1;33m(\u001b[0m\u001b[1;33m)\u001b[0m\u001b[1;33m:\u001b[0m\u001b[1;33m\u001b[0m\u001b[1;33m\u001b[0m\u001b[0m\n\u001b[0m\u001b[0;32m     99\u001b[0m             \u001b[0mmatplotlib\u001b[0m\u001b[1;33m.\u001b[0m\u001b[0mpyplot\u001b[0m\u001b[1;33m.\u001b[0m\u001b[0mclose\u001b[0m\u001b[1;33m(\u001b[0m\u001b[1;34m'all'\u001b[0m\u001b[1;33m)\u001b[0m\u001b[1;33m\u001b[0m\u001b[1;33m\u001b[0m\u001b[0m\n\u001b[0;32m    100\u001b[0m \u001b[1;33m\u001b[0m\u001b[0m\n",
      "\u001b[1;32mC:\\ProgramData\\Anaconda3\\lib\\site-packages\\pandas\\core\\generic.py\u001b[0m in \u001b[0;36m__nonzero__\u001b[1;34m(self)\u001b[0m\n\u001b[0;32m   1525\u001b[0m     \u001b[1;33m@\u001b[0m\u001b[0mfinal\u001b[0m\u001b[1;33m\u001b[0m\u001b[1;33m\u001b[0m\u001b[0m\n\u001b[0;32m   1526\u001b[0m     \u001b[1;32mdef\u001b[0m \u001b[0m__nonzero__\u001b[0m\u001b[1;33m(\u001b[0m\u001b[0mself\u001b[0m\u001b[1;33m)\u001b[0m\u001b[1;33m:\u001b[0m\u001b[1;33m\u001b[0m\u001b[1;33m\u001b[0m\u001b[0m\n\u001b[1;32m-> 1527\u001b[1;33m         raise ValueError(\n\u001b[0m\u001b[0;32m   1528\u001b[0m             \u001b[1;34mf\"The truth value of a {type(self).__name__} is ambiguous. \"\u001b[0m\u001b[1;33m\u001b[0m\u001b[1;33m\u001b[0m\u001b[0m\n\u001b[0;32m   1529\u001b[0m             \u001b[1;34m\"Use a.empty, a.bool(), a.item(), a.any() or a.all().\"\u001b[0m\u001b[1;33m\u001b[0m\u001b[1;33m\u001b[0m\u001b[0m\n",
      "\u001b[1;31mValueError\u001b[0m: The truth value of a Series is ambiguous. Use a.empty, a.bool(), a.item(), a.any() or a.all()."
     ]
    },
    {
     "data": {
      "image/png": "[encoded data removed]",
      "text/plain": [
       "<Figure size 640x480 with 1 Axes>"
      ]
     },
     "metadata": {},
     "output_type": "display_data"
    }
   ],
   "source": [
    "fig1 = df.groupby('target').age.plot(kind='kde')\n",
    "plt.show(fig1)"
   ]
  },
  {
   "cell_type": "code",
   "execution_count": 4,
   "id": "27ec28bf",
   "metadata": {},
   "outputs": [
    {
     "data": {
      "text/plain": [
       "(1025, 14)"
      ]
     },
     "execution_count": 4,
     "metadata": {},
     "output_type": "execute_result"
    }
   ],
   "source": [
    "df.shape"
   ]
  },
  {
   "cell_type": "code",
   "execution_count": 5,
   "id": "fc74f2c6",
   "metadata": {},
   "outputs": [
    {
     "data": {
      "text/plain": [
       "age                              0\n",
       "sex                              0\n",
       "chest_pain_type                  0\n",
       "resting_blood_pressure           0\n",
       "cholestoral                      0\n",
       "fasting_blood_sugar              0\n",
       "rest_ecg                         0\n",
       "Max_heart_rate                   0\n",
       "exercise_induced_angina          0\n",
       "oldpeak                          0\n",
       "slope                            0\n",
       "vessels_colored_by_flourosopy    0\n",
       "thalassemia                      0\n",
       "target                           0\n",
       "dtype: int64"
      ]
     },
     "execution_count": 5,
     "metadata": {},
     "output_type": "execute_result"
    }
   ],
   "source": [
    "df.isnull().sum()"
   ]
  },
  {
   "cell_type": "code",
   "execution_count": 6,
   "id": "713cdf4e",
   "metadata": {},
   "outputs": [
    {
     "name": "stdout",
     "output_type": "stream",
     "text": [
      "True\n"
     ]
    }
   ],
   "source": [
    "dup = df.duplicated().any()\n",
    "print(dup)"
   ]
  },
  {
   "cell_type": "code",
   "execution_count": 7,
   "id": "32c43b7f",
   "metadata": {},
   "outputs": [
    {
     "data": {
      "text/plain": [
       "(302, 14)"
      ]
     },
     "execution_count": 7,
     "metadata": {},
     "output_type": "execute_result"
    }
   ],
   "source": [
    "df = df.drop_duplicates()\n",
    "df.shape"
   ]
  },
  {
   "cell_type": "code",
   "execution_count": 8,
   "id": "5f42be27",
   "metadata": {},
   "outputs": [
    {
     "name": "stdout",
     "output_type": "stream",
     "text": [
      "['sex', 'chest_pain_type', 'fasting_blood_sugar', 'rest_ecg', 'exercise_induced_angina', 'slope', 'vessels_colored_by_flourosopy', 'thalassemia']\n"
     ]
    }
   ],
   "source": [
    "cd = [col for col in df.columns if df[col].dtype==\"O\"]\n",
    "print(cd)"
   ]
  },
  {
   "cell_type": "code",
   "execution_count": 9,
   "id": "ade13b96",
   "metadata": {},
   "outputs": [
    {
     "name": "stdout",
     "output_type": "stream",
     "text": [
      "['Male' 'Female']\n",
      "['Typical angina' 'Atypical angina' 'Non-anginal pain' 'Asymptomatic']\n",
      "['Lower than 120 mg/ml' 'Greater than 120 mg/ml']\n",
      "['ST-T wave abnormality' 'Normal' 'Left ventricular hypertrophy']\n",
      "['No' 'Yes']\n",
      "['Downsloping' 'Upsloping' 'Flat']\n",
      "['Two' 'Zero' 'One' 'Three' 'Four']\n",
      "['Reversable Defect' 'Fixed Defect' 'Normal' 'No']\n"
     ]
    }
   ],
   "source": [
    "print(df['sex'].unique())\n",
    "print(df['chest_pain_type'].unique())\n",
    "print(df['fasting_blood_sugar'].unique())\n",
    "print(df['rest_ecg'].unique())\n",
    "print(df['exercise_induced_angina'].unique())\n",
    "print(df['slope'].unique())\n",
    "print(df['vessels_colored_by_flourosopy'].unique())\n",
    "print(df['thalassemia'].unique())"
   ]
  },
  {
   "cell_type": "code",
   "execution_count": 10,
   "id": "e50ac5dd",
   "metadata": {},
   "outputs": [],
   "source": [
    "from sklearn.preprocessing import LabelEncoder"
   ]
  },
  {
   "cell_type": "code",
   "execution_count": 11,
   "id": "d7de1ad9",
   "metadata": {},
   "outputs": [
    {
     "data": {
      "text/plain": [
       "array([1, 0])"
      ]
     },
     "execution_count": 11,
     "metadata": {},
     "output_type": "execute_result"
    }
   ],
   "source": [
    "le_sex = LabelEncoder()\n",
    "df['sex'] = le_sex.fit_transform(df['sex'])\n",
    "df['sex'].unique()"
   ]
  },
  {
   "cell_type": "code",
   "execution_count": 12,
   "id": "d581182b",
   "metadata": {},
   "outputs": [
    {
     "data": {
      "text/plain": [
       "array([3, 1, 2, 0])"
      ]
     },
     "execution_count": 12,
     "metadata": {},
     "output_type": "execute_result"
    }
   ],
   "source": [
    "le_cpt = LabelEncoder()\n",
    "df['chest_pain_type'] = le_cpt.fit_transform(df['chest_pain_type'])\n",
    "df['chest_pain_type'].unique()"
   ]
  },
  {
   "cell_type": "code",
   "execution_count": 13,
   "id": "0bbae71d",
   "metadata": {},
   "outputs": [
    {
     "data": {
      "text/plain": [
       "array([1, 0])"
      ]
     },
     "execution_count": 13,
     "metadata": {},
     "output_type": "execute_result"
    }
   ],
   "source": [
    "le_fbs = LabelEncoder()\n",
    "df['fasting_blood_sugar'] = le_fbs.fit_transform(df['fasting_blood_sugar'])\n",
    "df['fasting_blood_sugar'].unique()"
   ]
  },
  {
   "cell_type": "code",
   "execution_count": 14,
   "id": "8fce7182",
   "metadata": {},
   "outputs": [
    {
     "data": {
      "text/plain": [
       "array([2, 1, 0])"
      ]
     },
     "execution_count": 14,
     "metadata": {},
     "output_type": "execute_result"
    }
   ],
   "source": [
    "le_ecg = LabelEncoder()\n",
    "df['rest_ecg'] = le_ecg.fit_transform(df['rest_ecg'])\n",
    "df['rest_ecg'].unique()"
   ]
  },
  {
   "cell_type": "code",
   "execution_count": 15,
   "id": "1255b1fb",
   "metadata": {},
   "outputs": [
    {
     "data": {
      "text/plain": [
       "array([0, 1])"
      ]
     },
     "execution_count": 15,
     "metadata": {},
     "output_type": "execute_result"
    }
   ],
   "source": [
    "le_eia = LabelEncoder()\n",
    "df['exercise_induced_angina'] = le_eia.fit_transform(df['exercise_induced_angina'])\n",
    "df['exercise_induced_angina'].unique()"
   ]
  },
  {
   "cell_type": "code",
   "execution_count": 16,
   "id": "4377c584",
   "metadata": {},
   "outputs": [
    {
     "data": {
      "text/plain": [
       "array([0, 2, 1])"
      ]
     },
     "execution_count": 16,
     "metadata": {},
     "output_type": "execute_result"
    }
   ],
   "source": [
    "le_slope = LabelEncoder()\n",
    "df['slope'] = le_slope.fit_transform(df['slope'])\n",
    "df['slope'].unique()"
   ]
  },
  {
   "cell_type": "code",
   "execution_count": 17,
   "id": "1b7f0a3c",
   "metadata": {},
   "outputs": [
    {
     "data": {
      "text/plain": [
       "array([3, 4, 1, 2, 0])"
      ]
     },
     "execution_count": 17,
     "metadata": {},
     "output_type": "execute_result"
    }
   ],
   "source": [
    "le_vcf = LabelEncoder()\n",
    "df['vessels_colored_by_flourosopy'] = le_vcf.fit_transform(df['vessels_colored_by_flourosopy'])\n",
    "df['vessels_colored_by_flourosopy'].unique()"
   ]
  },
  {
   "cell_type": "code",
   "execution_count": 18,
   "id": "304a4be6",
   "metadata": {},
   "outputs": [
    {
     "data": {
      "text/plain": [
       "array([3, 0, 2, 1])"
      ]
     },
     "execution_count": 18,
     "metadata": {},
     "output_type": "execute_result"
    }
   ],
   "source": [
    "le_thal = LabelEncoder()\n",
    "df['thalassemia'] = le_thal.fit_transform(df['thalassemia'])\n",
    "df['thalassemia'].unique()"
   ]
  },
  {
   "cell_type": "code",
   "execution_count": 19,
   "id": "c133f7bd",
   "metadata": {},
   "outputs": [],
   "source": [
    "A = df.drop(columns='target', axis=1)\n",
    "B = df['target']"
   ]
  },
  {
   "cell_type": "code",
   "execution_count": 20,
   "id": "0b8abd11",
   "metadata": {},
   "outputs": [
    {
     "data": {
      "text/html": [
       "<div>\n",
       "<style scoped>\n",
       "    .dataframe tbody tr th:only-of-type {\n",
       "        vertical-align: middle;\n",
       "    }\n",
       "\n",
       "    .dataframe tbody tr th {\n",
       "        vertical-align: top;\n",
       "    }\n",
       "\n",
       "    .dataframe thead th {\n",
       "        text-align: right;\n",
       "    }\n",
       "</style>\n",
       "<table border=\"1\" class=\"dataframe\">\n",
       "  <thead>\n",
       "    <tr style=\"text-align: right;\">\n",
       "      <th></th>\n",
       "      <th>age</th>\n",
       "      <th>sex</th>\n",
       "      <th>chest_pain_type</th>\n",
       "      <th>resting_blood_pressure</th>\n",
       "      <th>cholestoral</th>\n",
       "      <th>fasting_blood_sugar</th>\n",
       "      <th>rest_ecg</th>\n",
       "      <th>Max_heart_rate</th>\n",
       "      <th>exercise_induced_angina</th>\n",
       "      <th>oldpeak</th>\n",
       "      <th>slope</th>\n",
       "      <th>vessels_colored_by_flourosopy</th>\n",
       "      <th>thalassemia</th>\n",
       "    </tr>\n",
       "  </thead>\n",
       "  <tbody>\n",
       "    <tr>\n",
       "      <th>0</th>\n",
       "      <td>52</td>\n",
       "      <td>1</td>\n",
       "      <td>3</td>\n",
       "      <td>125</td>\n",
       "      <td>212</td>\n",
       "      <td>1</td>\n",
       "      <td>2</td>\n",
       "      <td>168</td>\n",
       "      <td>0</td>\n",
       "      <td>1.0</td>\n",
       "      <td>0</td>\n",
       "      <td>3</td>\n",
       "      <td>3</td>\n",
       "    </tr>\n",
       "    <tr>\n",
       "      <th>1</th>\n",
       "      <td>53</td>\n",
       "      <td>1</td>\n",
       "      <td>3</td>\n",
       "      <td>140</td>\n",
       "      <td>203</td>\n",
       "      <td>0</td>\n",
       "      <td>1</td>\n",
       "      <td>155</td>\n",
       "      <td>1</td>\n",
       "      <td>3.1</td>\n",
       "      <td>2</td>\n",
       "      <td>4</td>\n",
       "      <td>3</td>\n",
       "    </tr>\n",
       "    <tr>\n",
       "      <th>2</th>\n",
       "      <td>70</td>\n",
       "      <td>1</td>\n",
       "      <td>3</td>\n",
       "      <td>145</td>\n",
       "      <td>174</td>\n",
       "      <td>1</td>\n",
       "      <td>2</td>\n",
       "      <td>125</td>\n",
       "      <td>1</td>\n",
       "      <td>2.6</td>\n",
       "      <td>2</td>\n",
       "      <td>4</td>\n",
       "      <td>3</td>\n",
       "    </tr>\n",
       "    <tr>\n",
       "      <th>3</th>\n",
       "      <td>61</td>\n",
       "      <td>1</td>\n",
       "      <td>3</td>\n",
       "      <td>148</td>\n",
       "      <td>203</td>\n",
       "      <td>1</td>\n",
       "      <td>2</td>\n",
       "      <td>161</td>\n",
       "      <td>0</td>\n",
       "      <td>0.0</td>\n",
       "      <td>0</td>\n",
       "      <td>1</td>\n",
       "      <td>3</td>\n",
       "    </tr>\n",
       "    <tr>\n",
       "      <th>4</th>\n",
       "      <td>62</td>\n",
       "      <td>0</td>\n",
       "      <td>3</td>\n",
       "      <td>138</td>\n",
       "      <td>294</td>\n",
       "      <td>0</td>\n",
       "      <td>2</td>\n",
       "      <td>106</td>\n",
       "      <td>0</td>\n",
       "      <td>1.9</td>\n",
       "      <td>1</td>\n",
       "      <td>2</td>\n",
       "      <td>0</td>\n",
       "    </tr>\n",
       "  </tbody>\n",
       "</table>\n",
       "</div>"
      ],
      "text/plain": [
       "   age  sex  chest_pain_type  resting_blood_pressure  cholestoral  \\\n",
       "0   52    1                3                     125          212   \n",
       "1   53    1                3                     140          203   \n",
       "2   70    1                3                     145          174   \n",
       "3   61    1                3                     148          203   \n",
       "4   62    0                3                     138          294   \n",
       "\n",
       "   fasting_blood_sugar  rest_ecg  Max_heart_rate  exercise_induced_angina  \\\n",
       "0                    1         2             168                        0   \n",
       "1                    0         1             155                        1   \n",
       "2                    1         2             125                        1   \n",
       "3                    1         2             161                        0   \n",
       "4                    0         2             106                        0   \n",
       "\n",
       "   oldpeak  slope  vessels_colored_by_flourosopy  thalassemia  \n",
       "0      1.0      0                              3            3  \n",
       "1      3.1      2                              4            3  \n",
       "2      2.6      2                              4            3  \n",
       "3      0.0      0                              1            3  \n",
       "4      1.9      1                              2            0  "
      ]
     },
     "execution_count": 20,
     "metadata": {},
     "output_type": "execute_result"
    }
   ],
   "source": [
    "A.head()"
   ]
  },
  {
   "cell_type": "markdown",
   "id": "9fa95e3d",
   "metadata": {},
   "source": [
    "# Model Building"
   ]
  },
  {
   "cell_type": "code",
   "execution_count": 21,
   "id": "55a2ad31",
   "metadata": {},
   "outputs": [],
   "source": [
    "from sklearn.ensemble import RandomForestClassifier"
   ]
  },
  {
   "cell_type": "code",
   "execution_count": 22,
   "id": "bc210d6a",
   "metadata": {},
   "outputs": [
    {
     "data": {
      "text/plain": [
       "RandomForestClassifier()"
      ]
     },
     "execution_count": 22,
     "metadata": {},
     "output_type": "execute_result"
    }
   ],
   "source": [
    "rfc = RandomForestClassifier()\n",
    "rfc.fit(A,B)"
   ]
  },
  {
   "cell_type": "code",
   "execution_count": 36,
   "id": "72ca0521",
   "metadata": {},
   "outputs": [],
   "source": [
    "x = np.array([[70, 1, 3, 145, 174, 1, 2, 125, 1, 2.6, 2, 4, 3]])"
   ]
  },
  {
   "cell_type": "code",
   "execution_count": null,
   "id": "e47c3d7c",
   "metadata": {},
   "outputs": [],
   "source": []
  },
  {
   "cell_type": "code",
   "execution_count": null,
   "id": "7ddc9b8a",
   "metadata": {},
   "outputs": [],
   "source": []
  },
  {
   "cell_type": "code",
   "execution_count": 37,
   "id": "0c6f4508",
   "metadata": {},
   "outputs": [
    {
     "name": "stdout",
     "output_type": "stream",
     "text": [
      "[0]\n"
     ]
    },
    {
     "name": "stderr",
     "output_type": "stream",
     "text": [
      "C:\\ProgramData\\Anaconda3\\lib\\site-packages\\sklearn\\base.py:450: UserWarning: X does not have valid feature names, but RandomForestClassifier was fitted with feature names\n",
      "  warnings.warn(\n"
     ]
    }
   ],
   "source": [
    "result = rfc.predict(x)\n",
    "print(result)"
   ]
  },
  {
   "cell_type": "markdown",
   "id": "a68a40f3",
   "metadata": {},
   "source": [
    "# save as pickle file"
   ]
  },
  {
   "cell_type": "code",
   "execution_count": null,
   "id": "5570bbd0",
   "metadata": {},
   "outputs": [],
   "source": [
    "import pickle"
   ]
  },
  {
   "cell_type": "code",
   "execution_count": null,
   "id": "256b0830",
   "metadata": {},
   "outputs": [],
   "source": [
    "data = {\"model\": rfc, \"le_cpt\": le_cpt, \"le_ecg\": le_ecg, \"le_eia\": le_eia, \"le_fbs\": le_fbs, \"le_sex\": le_sex, \"le_slope\": le_slope, \"le_thal\": le_thal, \"le_vcf\": le_vcf}\n",
    "with open('saved_steps.pkl', 'wb') as file:\n",
    "    pickle.dump(data, file)"
   ]
  },
  {
   "cell_type": "code",
   "execution_count": null,
   "id": "14ee1fe6",
   "metadata": {},
   "outputs": [],
   "source": []
  }
 ],
 "metadata": {
  "kernelspec": {
   "display_name": "Python 3 (ipykernel)",
   "language": "python",
   "name": "python3"
  },
  "language_info": {
   "codemirror_mode": {
    "name": "ipython",
    "version": 3
   },
   "file_extension": ".py",
   "mimetype": "text/x-python",
   "name": "python",
   "nbconvert_exporter": "python",
   "pygments_lexer": "ipython3",
   "version": "3.9.13"
  }
 },
 "nbformat": 4,
 "nbformat_minor": 5
}
